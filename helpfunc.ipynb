{
 "cells": [
  {
   "cell_type": "code",
   "execution_count": 1,
   "metadata": {},
   "outputs": [],
   "source": [
    "# various helpful functions or template code I've written once in various\n",
    "# places but don't want to have to reinvent if I forget where I wrote it"
   ]
  },
  {
   "cell_type": "code",
   "execution_count": null,
   "metadata": {},
   "outputs": [],
   "source": [
    "# template for sorting function which returns a list to account for \n",
    "# ties. this uses a dictionary and numerical type values\n",
    "\n",
    "def max_keys(self,):\n",
    "        maxvals = [0]\n",
    "        maxkeys = ['']\n",
    "        \n",
    "        for key in self.dict.keys():\n",
    "            if self.dict[key] == maxvals[-1]:\n",
    "                maxvals.append(self.dict[key])\n",
    "                maxkeys.append(key)\n",
    "                print('eq ',maxkeys)\n",
    "            elif self.dict[key] > maxvals[-1]:\n",
    "                maxvals[-1] = self.dict[key]\n",
    "                maxkeys[-1] = key\n",
    "                print('gt ',maxkeys)\n",
    "                if maxvals[-1] > maxvals[0]:\n",
    "                    print(True)\n",
    "                while maxvals[-1] > maxvals[0]:\n",
    "                    print('while ',maxkeys)\n",
    "                    maxvals.pop(0)\n",
    "                    maxkeys.pop(0)\n",
    "                print('postwhile ', maxkeys)\n",
    "                \n",
    "        return maxkeys"
   ]
  }
 ],
 "metadata": {
  "kernelspec": {
   "display_name": "Python 3",
   "language": "python",
   "name": "python3"
  },
  "language_info": {
   "codemirror_mode": {
    "name": "ipython",
    "version": 3
   },
   "file_extension": ".py",
   "mimetype": "text/x-python",
   "name": "python",
   "nbconvert_exporter": "python",
   "pygments_lexer": "ipython3",
   "version": "3.7.3"
  }
 },
 "nbformat": 4,
 "nbformat_minor": 2
}
