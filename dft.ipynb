{
 "cells": [
  {
   "cell_type": "code",
   "execution_count": 1,
   "metadata": {},
   "outputs": [
    {
     "data": {
      "text/html": [
       "<style>.container{width:100% !important;}</style>"
      ],
      "text/plain": [
       "<IPython.core.display.HTML object>"
      ]
     },
     "metadata": {},
     "output_type": "display_data"
    }
   ],
   "source": [
    "import matplotlib.pyplot as plt\n",
    "from numpy import * \n",
    "\n",
    "from IPython.core.display import display,HTML\n",
    "display(HTML(\"<style>.container{width:100% !important;}</style>\"))"
   ]
  },
  {
   "cell_type": "code",
   "execution_count": 2,
   "metadata": {},
   "outputs": [],
   "source": [
    "# functions\n",
    "\n",
    "def fseries(ypts, time, bins, rate): \n",
    "    \"\"\" kth fourier coeff = sum(n=0,N,exp(-i*2pi*k*n*t/N))\n",
    "        'ypts': data, 1D array-like\n",
    "        'time': sampling time [s]\n",
    "        'bins': number of frequency bins\n",
    "        'rate': sampling rate [Hz]\n",
    "    \"\"\"\n",
    "    N = len(ypts)\n",
    "    coeffs = empty(bins,complex)\n",
    "    res = int(rate/bins) # Hz/bin\n",
    "    t = time\n",
    "    \n",
    "    # get the fourier coeffs\n",
    "    for k in range(bins)[:int(bins/2)]:\n",
    "        \n",
    "        # the two out front is justified from dropping the bins for which f > f_nyquist\n",
    "        # /N to scale by sample size\n",
    "        coeffs[k] = 2*sum([ypts[n]*(cos(2*pi*k*n*t/N) + 1j*sin(2*pi*k*n*t/N)) for n in range(N)])/N\n",
    "        \n",
    "    # don't calculate frequencies above nyquist rate, i.e. sampling rate/2 (so just drop upper half of bins)\n",
    "    coeffs[int(bins/2-1):] = zeros(int(bins/2+1))            \n",
    "    \n",
    "    return coeffs"
   ]
  },
  {
   "cell_type": "code",
   "execution_count": 14,
   "metadata": {},
   "outputs": [
    {
     "data": {
      "image/png": "[encoded data removed]",
      "text/plain": [
       "<Figure size 432x288 with 1 Axes>"
      ]
     },
     "metadata": {
      "needs_background": "light"
     },
     "output_type": "display_data"
    }
   ],
   "source": [
    "# example: 1 Hz sine wave, different bin resolutions\n",
    "\n",
    "srates = [32,64,128,256] # [Hz] sample rate\n",
    "bins = 32 # bin resolution is srate/bins\n",
    "stime = 1 # range(1,2) # [s] range of sample times\n",
    " \n",
    "f = 1 # [Hz] of input wave\n",
    "\n",
    "for srate in srates:\n",
    "    swave = sin(2*pi*f*linspace(0,stime,srate)) # sampled wave\n",
    "    dft = fseries(swave,stime,bins,srate)\n",
    "    len(dft)\n",
    "    plt.scatter(arange(0, srate, srate/bins),abs(dft),label=f\"bin res: {srate/bins}[Hz]\")\n",
    "    plt.ylim((0,1))\n",
    "    plt.xlim((0,10))\n",
    "    plt.ylabel('Amplitude')\n",
    "    plt.xlabel('[Hz]')\n",
    "    plt.legend()"
   ]
  },
  {
   "cell_type": "code",
   "execution_count": 12,
   "metadata": {},
   "outputs": [
    {
     "data": {
      "text/plain": [
       "array([0])"
      ]
     },
     "execution_count": 12,
     "metadata": {},
     "output_type": "execute_result"
    }
   ],
   "source": []
  },
  {
   "cell_type": "code",
   "execution_count": null,
   "metadata": {},
   "outputs": [],
   "source": []
  }
 ],
 "metadata": {
  "kernelspec": {
   "display_name": "Python 3",
   "language": "python",
   "name": "python3"
  },
  "language_info": {
   "codemirror_mode": {
    "name": "ipython",
    "version": 3
   },
   "file_extension": ".py",
   "mimetype": "text/x-python",
   "name": "python",
   "nbconvert_exporter": "python",
   "pygments_lexer": "ipython3",
   "version": "3.7.3"
  }
 },
 "nbformat": 4,
 "nbformat_minor": 2
}
