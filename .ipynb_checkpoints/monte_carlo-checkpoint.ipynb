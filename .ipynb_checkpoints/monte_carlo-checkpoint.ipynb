{
 "cells": [
  {
   "cell_type": "code",
   "execution_count": 48,
   "metadata": {},
   "outputs": [],
   "source": [
    "from numpy import *\n",
    "import matplotlib.pyplot as plt\n",
    "from random import random as rand\n",
    "from scipy import integrate"
   ]
  },
  {
   "cell_type": "code",
   "execution_count": 84,
   "metadata": {},
   "outputs": [],
   "source": [
    "f = lambda u: exp(-u**2)\n",
    "\n",
    "def sample(xmin,xmax,func,pts):\n",
    "\n",
    "    dt = (xmax-xmin)/pts\n",
    "#     dt = 0.001\n",
    "    y = 0\n",
    "\n",
    "    for j in range(pts):\n",
    "        x = rand()*(xmax-xmin)\n",
    "        y += func(x)*dt\n",
    "    return y/pts\n",
    "    \n",
    "def erf(x):\n",
    "    f = lambda u: (2/pi**.5)*exp(-u**2)\n",
    "    ans,err = integrate.quad(f,0,x)\n",
    "    return ans"
   ]
  },
  {
   "cell_type": "code",
   "execution_count": 85,
   "metadata": {
    "scrolled": true
   },
   "outputs": [
    {
     "data": {
      "image/png": "[encoded data removed]",
      "text/plain": [
       "<Figure size 432x288 with 1 Axes>"
      ]
     },
     "metadata": {
      "needs_background": "light"
     },
     "output_type": "display_data"
    }
   ],
   "source": [
    "xlist = linspace(0,5,100) # the xpts to be evaluated\n",
    "\n",
    "ypts = empty(len(xlist))\n",
    "\n",
    "y = 0\n",
    "for i,x in enumerate(xlist):\n",
    "\n",
    "    # calculate the integral at x:\n",
    "    pts = 1000\n",
    "    y = sample(0,x,f,pts)\n",
    "    \n",
    "    ypts[i] = y\n",
    "    \n",
    "plt.plot(xlist,ypts,label='monte-carlo')\n",
    "# plt.plot(xlist,[exp(-u**2) for u in xlist])\n",
    "plt.plot(xlist,[erf(x) for x in xlist],label='erf')\n",
    "plt.legend(loc='best')\n",
    "plt.show()"
   ]
  },
  {
   "cell_type": "code",
   "execution_count": null,
   "metadata": {},
   "outputs": [],
   "source": []
  }
 ],
 "metadata": {
  "kernelspec": {
   "display_name": "Python 3",
   "language": "python",
   "name": "python3"
  },
  "language_info": {
   "codemirror_mode": {
    "name": "ipython",
    "version": 3
   },
   "file_extension": ".py",
   "mimetype": "text/x-python",
   "name": "python",
   "nbconvert_exporter": "python",
   "pygments_lexer": "ipython3",
   "version": "3.7.3"
  }
 },
 "nbformat": 4,
 "nbformat_minor": 2
}
