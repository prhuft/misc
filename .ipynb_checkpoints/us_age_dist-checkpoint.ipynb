{
 "cells": [
  {
   "cell_type": "code",
   "execution_count": 1,
   "metadata": {},
   "outputs": [],
   "source": [
    "import pandas as pd\n",
    "from pandas import Series\n",
    "import matplotlib\n",
    "import matplotlib.pyplot as plt"
   ]
  },
  {
   "cell_type": "code",
   "execution_count": 2,
   "metadata": {},
   "outputs": [],
   "source": [
    "%matplotlib inline"
   ]
  },
  {
   "cell_type": "code",
   "execution_count": 3,
   "metadata": {},
   "outputs": [],
   "source": [
    "s = Series([300000, 500000, 100000])"
   ]
  },
  {
   "cell_type": "code",
   "execution_count": 4,
   "metadata": {},
   "outputs": [
    {
     "data": {
      "text/plain": [
       "<matplotlib.axes._subplots.AxesSubplot at 0x1a438b45be0>"
      ]
     },
     "execution_count": 4,
     "metadata": {},
     "output_type": "execute_result"
    },
    {
     "data": {
      "image/png": "[encoded data removed]",
      "text/plain": [
       "<Figure size 432x288 with 1 Axes>"
      ]
     },
     "metadata": {},
     "output_type": "display_data"
    }
   ],
   "source": [
    "s.plot.pie()"
   ]
  },
  {
   "cell_type": "code",
   "execution_count": 5,
   "metadata": {},
   "outputs": [],
   "source": [
    "matplotlib.rcParams[\"font.size\"]=16"
   ]
  },
  {
   "cell_type": "code",
   "execution_count": 20,
   "metadata": {},
   "outputs": [],
   "source": [
    "def get_ax(height=3):\n",
    "    fig, ax = plt.subplots(1)\n",
    "    ax.spines[\"top\"].set_visible(False)\n",
    "    ax.spines[\"right\"].set_visible(False)\n",
    "    return ax"
   ]
  },
  {
   "cell_type": "code",
   "execution_count": 23,
   "metadata": {},
   "outputs": [
    {
     "data": {
      "text/plain": [
       "Text(0.5, 1.0, 'Annual City Spending')"
      ]
     },
     "execution_count": 23,
     "metadata": {},
     "output_type": "execute_result"
    },
    {
     "data": {
      "image/png": "[encoded data removed]",
      "text/plain": [
       "<Figure size 432x288 with 1 Axes>"
      ]
     },
     "metadata": {
      "needs_background": "light"
     },
     "output_type": "display_data"
    }
   ],
   "source": [
    "s = Series({\"Police\": 5000000, \"Fire\": 3000000, \"Schools\": 2000000})\n",
    "ax = get_ax(1.5)\n",
    "# fig, ax = plt.subplots(1)\n",
    "(s / 1e6).plot.barh(color=\"k\", ax=ax) # or bar() is vertical\n",
    "ax.set_xlabel(\"Dollars [Millions]\")\n",
    "ax.set_title(\"Annual City Spending\")"
   ]
  },
  {
   "cell_type": "code",
   "execution_count": 39,
   "metadata": {},
   "outputs": [],
   "source": [
    "import sqlite3\n",
    "import os "
   ]
  },
  {
   "cell_type": "code",
   "execution_count": null,
   "metadata": {},
   "outputs": [],
   "source": [
    "path = \"bus.db\"\n",
    "assert os.path.exists(path)\n",
    "conn = sqlite3.connect(path)"
   ]
  },
  {
   "cell_type": "code",
   "execution_count": null,
   "metadata": {},
   "outputs": [],
   "source": [
    "pd.read_sql(\"SELECT * FROM sqlite_master\", conn) # always run first"
   ]
  },
  {
   "cell_type": "markdown",
   "metadata": {},
   "source": [
    "# age distribution of u.s. population in 2010"
   ]
  },
  {
   "cell_type": "markdown",
   "metadata": {},
   "source": [
    "Under 18 years 72,293,812 25.7 74,181,467 24.0 1,887,655 2.6\n",
    "Under 5 years 19,175,798 6.8 20,201,362 6.5 1,025,564 5.3\n",
    "5 to 17 years 53,118,014 18.9 53,980,105 17.5 862,091 1.6\n",
    "18 to 44 years 112,183,705 39.9 112,806,642 36.5 622,937 0.6\n",
    "18 to 24 years 27,143,454 9.6 30,672,088 9.9 3,528,634 13.0\n",
    "25 to 44 years 85,040,251 30.2 82,134,554 26.6 –2,905,697 –3.4\n",
    "45 to 64 years 61,952,636 22.0 81,489,445 26.4 19,536,809 31.5\n",
    "65 years and over 34,991,753 12.4 40,267,984 13.0 5,276,231 15.1\n",
    "16 years and over 217,149,127 77.2 243,275,505 78.8 26,126,378 12.0\n",
    "18 years and over 209,128,094 74.3 234,564,071 76.0 25,435,977 12.2\n",
    "21 years and over 196,899,193 70.0 220,958,853 71.6 24,059,660 12.2\n",
    "62 years and over 41,256,029 14.7 49,972,181 16.2 8,716,152\""
   ]
  },
  {
   "cell_type": "code",
   "execution_count": 1,
   "metadata": {},
   "outputs": [],
   "source": [
    "# weed through this\n",
    "\n",
    "data = {\"2000\": [], \"2010\": [], \"2000-2010\": []}\n",
    "keys = [\"2000\", \"2010\", \"2000-2010\"]\n",
    "\n",
    "with open(\"us_agedists_2010.txt\", encoding='utf-8') as f:\n",
    "    for line in f:\n",
    "        if \"under\" in line.lower():\n",
    "            i = line.find(\"under\")\n",
    "            for ch in line[i+len(\"under\")+1:]:\n",
    "#                 print(ch)\n",
    "                vals = line[i+len(\"under\")+1:].split(\" \")    \n",
    "        elif \"over\" in line.lower():\n",
    "            i = line.find(\"over\")\n",
    "            for ch in line[i+len(\"over\")+1:]:\n",
    "#                 print(ch)\n",
    "                vals = line[i+len(\"over\")+1:].split(\" \")            \n",
    "    \n",
    "        elif \"years\" in line.lower():\n",
    "            i = line.find(\"years\")\n",
    "            vals = line[i+len(\"years\")+1:].split(\" \")\n",
    "#                 print(ch)\n",
    "        for i in range(int(len(keys))):\n",
    "            data[keys[i]].append({\"number\": vals[2*i], \"percent\": vals[2*i+1]})\n",
    "    f.close"
   ]
  },
  {
   "cell_type": "code",
   "execution_count": 2,
   "metadata": {
    "collapsed": true
   },
   "outputs": [
    {
     "data": {
      "text/plain": [
       "{'2000': [{'number': '', 'percent': '18'},\n",
       "  {'number': '', 'percent': '5'},\n",
       "  {'number': '53,118,014', 'percent': '18.9'},\n",
       "  {'number': '112,183,705', 'percent': '39.9'},\n",
       "  {'number': '27,143,454', 'percent': '9.6'},\n",
       "  {'number': '85,040,251', 'percent': '30.2'},\n",
       "  {'number': '61,952,636', 'percent': '22.0'},\n",
       "  {'number': '34,991,753', 'percent': '12.4'},\n",
       "  {'number': '217,149,127', 'percent': '77.2'},\n",
       "  {'number': '209,128,094', 'percent': '74.3'},\n",
       "  {'number': '196,899,193', 'percent': '70.0'},\n",
       "  {'number': '41,256,029', 'percent': '14.7'}],\n",
       " '2010': [{'number': 'years', 'percent': '72,293,812'},\n",
       "  {'number': 'years', 'percent': '19,175,798'},\n",
       "  {'number': '53,980,105', 'percent': '17.5'},\n",
       "  {'number': '112,806,642', 'percent': '36.5'},\n",
       "  {'number': '30,672,088', 'percent': '9.9'},\n",
       "  {'number': '82,134,554', 'percent': '26.6'},\n",
       "  {'number': '81,489,445', 'percent': '26.4'},\n",
       "  {'number': '40,267,984', 'percent': '13.0'},\n",
       "  {'number': '243,275,505', 'percent': '78.8'},\n",
       "  {'number': '234,564,071', 'percent': '76.0'},\n",
       "  {'number': '220,958,853', 'percent': '71.6'},\n",
       "  {'number': '49,972,181', 'percent': '16.2'}],\n",
       " '2000-2010': [{'number': '25.7', 'percent': '74,181,467'},\n",
       "  {'number': '6.8', 'percent': '20,201,362'},\n",
       "  {'number': '862,091', 'percent': '1.6\\n'},\n",
       "  {'number': '622,937', 'percent': '0.6\\n'},\n",
       "  {'number': '3,528,634', 'percent': '13.0\\n'},\n",
       "  {'number': '–2,905,697', 'percent': '–3.4\\n'},\n",
       "  {'number': '19,536,809', 'percent': '31.5\\n'},\n",
       "  {'number': '5,276,231', 'percent': '15.1\\n'},\n",
       "  {'number': '26,126,378', 'percent': '12.0\\n'},\n",
       "  {'number': '25,435,977', 'percent': '12.2\\n'},\n",
       "  {'number': '24,059,660', 'percent': '12.2\\n'},\n",
       "  {'number': '8,716,152,', 'percent': '21.1'}]}"
      ]
     },
     "execution_count": 2,
     "metadata": {},
     "output_type": "execute_result"
    }
   ],
   "source": [
    "data\n",
    "\n",
    "df = pd_read"
   ]
  },
  {
   "cell_type": "code",
   "execution_count": 48,
   "metadata": {},
   "outputs": [
    {
     "data": {
      "text/plain": [
       "False"
      ]
     },
     "execution_count": 48,
     "metadata": {},
     "output_type": "execute_result"
    }
   ],
   "source": [
    "\"under\" in \"Under\""
   ]
  },
  {
   "cell_type": "code",
   "execution_count": null,
   "metadata": {},
   "outputs": [],
   "source": []
  }
 ],
 "metadata": {
  "kernelspec": {
   "display_name": "Python 3",
   "language": "python",
   "name": "python3"
  },
  "language_info": {
   "codemirror_mode": {
    "name": "ipython",
    "version": 3
   },
   "file_extension": ".py",
   "mimetype": "text/x-python",
   "name": "python",
   "nbconvert_exporter": "python",
   "pygments_lexer": "ipython3",
   "version": "3.7.3"
  }
 },
 "nbformat": 4,
 "nbformat_minor": 2
}
